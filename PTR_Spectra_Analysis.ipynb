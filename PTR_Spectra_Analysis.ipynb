{
  "nbformat": 4,
  "nbformat_minor": 0,
  "metadata": {
    "colab": {
      "name": "PTR-Spectra-Analysis.ipynb",
      "provenance": [],
      "collapsed_sections": [
        "9Dnj0Tji5M0K",
        "IVUnftS5dMEs",
        "OjxuO-sLRTKH",
        "QSN-OHdNRYZt",
        "y_DsVwHbtiOf",
        "j40FX0jDi59z",
        "d80_vRA1bpxW",
        "YuP8bAMeKXLA",
        "y2GN8xsOJk8r",
        "xGChq130wSa9",
        "huorm8NZ0n3J"
      ],
      "authorship_tag": "ABX9TyM9WNPz5eUrYt2DRQgZTcsY",
      "include_colab_link": true
    },
    "kernelspec": {
      "name": "python3",
      "display_name": "Python 3"
    },
    "language_info": {
      "name": "python"
    }
  },
  "cells": [
    {
      "cell_type": "markdown",
      "metadata": {
        "id": "view-in-github",
        "colab_type": "text"
      },
      "source": [
        "<a href=\"https://colab.research.google.com/github/CharKuehl/DermalVOCs/blob/main/PTR_Spectra_Analysis.ipynb\" target=\"_parent\"><img src=\"https://colab.research.google.com/assets/colab-badge.svg\" alt=\"Open In Colab\"/></a>"
      ]
    },
    {
      "cell_type": "markdown",
      "source": [
        "#Intro\n",
        "For the PTR-MS data we first want to analyse and Plot the data and visualise  peakshifts ect."
      ],
      "metadata": {
        "id": "HBMon0ANRn_i"
      }
    },
    {
      "cell_type": "markdown",
      "source": [
        "#Data "
      ],
      "metadata": {
        "id": "syKJ753LvSQ4"
      }
    },
    {
      "cell_type": "code",
      "source": [
        "import tensorflow as tf\n",
        "import numpy as np\n",
        "import pandas as pd\n",
        "import matplotlib.pyplot as plt\n",
        "import matplotlib.mlab as mlab\n",
        "import matplotlib\n",
        "import torch\n",
        "import seaborn as sns\n",
        "plt.style.use('ggplot')\n",
        "from matplotlib.pyplot import figure\n",
        "from matplotlib.colors import ListedColormap"
      ],
      "metadata": {
        "colab": {
          "base_uri": "https://localhost:8080/",
          "height": 375
        },
        "id": "uh5NFnfr2N2y",
        "outputId": "1d8b7886-de6a-467a-e125-83b4bdc370c4"
      },
      "execution_count": 24,
      "outputs": [
        {
          "output_type": "error",
          "ename": "AttributeError",
          "evalue": "ignored",
          "traceback": [
            "\u001b[0;31m---------------------------------------------------------------------------\u001b[0m",
            "\u001b[0;31mAttributeError\u001b[0m                            Traceback (most recent call last)",
            "\u001b[0;32m<ipython-input-24-05cc1fbd0a47>\u001b[0m in \u001b[0;36m<module>\u001b[0;34m()\u001b[0m\n\u001b[0;32m----> 1\u001b[0;31m \u001b[0;32mimport\u001b[0m \u001b[0mtensorflow\u001b[0m \u001b[0;32mas\u001b[0m \u001b[0mtf\u001b[0m\u001b[0;34m\u001b[0m\u001b[0;34m\u001b[0m\u001b[0m\n\u001b[0m\u001b[1;32m      2\u001b[0m \u001b[0;32mimport\u001b[0m \u001b[0mnumpy\u001b[0m \u001b[0;32mas\u001b[0m \u001b[0mnp\u001b[0m\u001b[0;34m\u001b[0m\u001b[0;34m\u001b[0m\u001b[0m\n\u001b[1;32m      3\u001b[0m \u001b[0;32mimport\u001b[0m \u001b[0mpandas\u001b[0m \u001b[0;32mas\u001b[0m \u001b[0mpd\u001b[0m\u001b[0;34m\u001b[0m\u001b[0;34m\u001b[0m\u001b[0m\n\u001b[1;32m      4\u001b[0m \u001b[0;32mimport\u001b[0m \u001b[0mmatplotlib\u001b[0m\u001b[0;34m.\u001b[0m\u001b[0mpyplot\u001b[0m \u001b[0;32mas\u001b[0m \u001b[0mplt\u001b[0m\u001b[0;34m\u001b[0m\u001b[0;34m\u001b[0m\u001b[0m\n\u001b[1;32m      5\u001b[0m \u001b[0;32mimport\u001b[0m \u001b[0mmatplotlib\u001b[0m\u001b[0;34m.\u001b[0m\u001b[0mmlab\u001b[0m \u001b[0;32mas\u001b[0m \u001b[0mmlab\u001b[0m\u001b[0;34m\u001b[0m\u001b[0;34m\u001b[0m\u001b[0m\n",
            "\u001b[0;32m/usr/local/lib/python3.7/dist-packages/tensorflow/__init__.py\u001b[0m in \u001b[0;36m<module>\u001b[0;34m()\u001b[0m\n\u001b[1;32m    471\u001b[0m \u001b[0;32mif\u001b[0m \u001b[0mhasattr\u001b[0m\u001b[0;34m(\u001b[0m\u001b[0m_current_module\u001b[0m\u001b[0;34m,\u001b[0m \u001b[0;34m\"keras\"\u001b[0m\u001b[0;34m)\u001b[0m\u001b[0;34m:\u001b[0m\u001b[0;34m\u001b[0m\u001b[0;34m\u001b[0m\u001b[0m\n\u001b[1;32m    472\u001b[0m   \u001b[0;32mtry\u001b[0m\u001b[0;34m:\u001b[0m\u001b[0;34m\u001b[0m\u001b[0;34m\u001b[0m\u001b[0m\n\u001b[0;32m--> 473\u001b[0;31m     \u001b[0mkeras\u001b[0m\u001b[0;34m.\u001b[0m\u001b[0m_load\u001b[0m\u001b[0;34m(\u001b[0m\u001b[0;34m)\u001b[0m\u001b[0;34m\u001b[0m\u001b[0;34m\u001b[0m\u001b[0m\n\u001b[0m\u001b[1;32m    474\u001b[0m   \u001b[0;32mexcept\u001b[0m \u001b[0mImportError\u001b[0m\u001b[0;34m:\u001b[0m\u001b[0;34m\u001b[0m\u001b[0;34m\u001b[0m\u001b[0m\n\u001b[1;32m    475\u001b[0m     \u001b[0;32mpass\u001b[0m\u001b[0;34m\u001b[0m\u001b[0;34m\u001b[0m\u001b[0m\n",
            "\u001b[0;32m/usr/local/lib/python3.7/dist-packages/tensorflow/python/util/lazy_loader.py\u001b[0m in \u001b[0;36m_load\u001b[0;34m(self)\u001b[0m\n\u001b[1;32m     39\u001b[0m     \u001b[0;34m\"\"\"Load the module and insert it into the parent's globals.\"\"\"\u001b[0m\u001b[0;34m\u001b[0m\u001b[0;34m\u001b[0m\u001b[0m\n\u001b[1;32m     40\u001b[0m     \u001b[0;31m# Import the target module and insert it into the parent's namespace\u001b[0m\u001b[0;34m\u001b[0m\u001b[0;34m\u001b[0m\u001b[0;34m\u001b[0m\u001b[0m\n\u001b[0;32m---> 41\u001b[0;31m     \u001b[0mmodule\u001b[0m \u001b[0;34m=\u001b[0m \u001b[0mimportlib\u001b[0m\u001b[0;34m.\u001b[0m\u001b[0mimport_module\u001b[0m\u001b[0;34m(\u001b[0m\u001b[0mself\u001b[0m\u001b[0;34m.\u001b[0m\u001b[0m__name__\u001b[0m\u001b[0;34m)\u001b[0m\u001b[0;34m\u001b[0m\u001b[0;34m\u001b[0m\u001b[0m\n\u001b[0m\u001b[1;32m     42\u001b[0m     \u001b[0mself\u001b[0m\u001b[0;34m.\u001b[0m\u001b[0m_parent_module_globals\u001b[0m\u001b[0;34m[\u001b[0m\u001b[0mself\u001b[0m\u001b[0;34m.\u001b[0m\u001b[0m_local_name\u001b[0m\u001b[0;34m]\u001b[0m \u001b[0;34m=\u001b[0m \u001b[0mmodule\u001b[0m\u001b[0;34m\u001b[0m\u001b[0;34m\u001b[0m\u001b[0m\n\u001b[1;32m     43\u001b[0m \u001b[0;34m\u001b[0m\u001b[0m\n",
            "\u001b[0;32m/usr/lib/python3.7/importlib/__init__.py\u001b[0m in \u001b[0;36mimport_module\u001b[0;34m(name, package)\u001b[0m\n\u001b[1;32m    125\u001b[0m                 \u001b[0;32mbreak\u001b[0m\u001b[0;34m\u001b[0m\u001b[0;34m\u001b[0m\u001b[0m\n\u001b[1;32m    126\u001b[0m             \u001b[0mlevel\u001b[0m \u001b[0;34m+=\u001b[0m \u001b[0;36m1\u001b[0m\u001b[0;34m\u001b[0m\u001b[0;34m\u001b[0m\u001b[0m\n\u001b[0;32m--> 127\u001b[0;31m     \u001b[0;32mreturn\u001b[0m \u001b[0m_bootstrap\u001b[0m\u001b[0;34m.\u001b[0m\u001b[0m_gcd_import\u001b[0m\u001b[0;34m(\u001b[0m\u001b[0mname\u001b[0m\u001b[0;34m[\u001b[0m\u001b[0mlevel\u001b[0m\u001b[0;34m:\u001b[0m\u001b[0;34m]\u001b[0m\u001b[0;34m,\u001b[0m \u001b[0mpackage\u001b[0m\u001b[0;34m,\u001b[0m \u001b[0mlevel\u001b[0m\u001b[0;34m)\u001b[0m\u001b[0;34m\u001b[0m\u001b[0;34m\u001b[0m\u001b[0m\n\u001b[0m\u001b[1;32m    128\u001b[0m \u001b[0;34m\u001b[0m\u001b[0m\n\u001b[1;32m    129\u001b[0m \u001b[0;34m\u001b[0m\u001b[0m\n",
            "\u001b[0;32m/usr/local/lib/python3.7/dist-packages/keras/__init__.py\u001b[0m in \u001b[0;36m<module>\u001b[0;34m()\u001b[0m\n\u001b[1;32m     23\u001b[0m \u001b[0;34m\u001b[0m\u001b[0m\n\u001b[1;32m     24\u001b[0m \u001b[0;31m# See b/110718070#comment18 for more details about this import.\u001b[0m\u001b[0;34m\u001b[0m\u001b[0;34m\u001b[0m\u001b[0;34m\u001b[0m\u001b[0m\n\u001b[0;32m---> 25\u001b[0;31m \u001b[0;32mfrom\u001b[0m \u001b[0mkeras\u001b[0m \u001b[0;32mimport\u001b[0m \u001b[0mmodels\u001b[0m\u001b[0;34m\u001b[0m\u001b[0;34m\u001b[0m\u001b[0m\n\u001b[0m\u001b[1;32m     26\u001b[0m \u001b[0;34m\u001b[0m\u001b[0m\n\u001b[1;32m     27\u001b[0m \u001b[0;32mfrom\u001b[0m \u001b[0mkeras\u001b[0m\u001b[0;34m.\u001b[0m\u001b[0mengine\u001b[0m\u001b[0;34m.\u001b[0m\u001b[0minput_layer\u001b[0m \u001b[0;32mimport\u001b[0m \u001b[0mInput\u001b[0m\u001b[0;34m\u001b[0m\u001b[0;34m\u001b[0m\u001b[0m\n",
            "\u001b[0;32m/usr/local/lib/python3.7/dist-packages/keras/models.py\u001b[0m in \u001b[0;36m<module>\u001b[0;34m()\u001b[0m\n\u001b[1;32m     18\u001b[0m \u001b[0;32mimport\u001b[0m \u001b[0mtensorflow\u001b[0m\u001b[0;34m.\u001b[0m\u001b[0mcompat\u001b[0m\u001b[0;34m.\u001b[0m\u001b[0mv2\u001b[0m \u001b[0;32mas\u001b[0m \u001b[0mtf\u001b[0m\u001b[0;34m\u001b[0m\u001b[0;34m\u001b[0m\u001b[0m\n\u001b[1;32m     19\u001b[0m \u001b[0;32mfrom\u001b[0m \u001b[0mkeras\u001b[0m \u001b[0;32mimport\u001b[0m \u001b[0mbackend\u001b[0m\u001b[0;34m\u001b[0m\u001b[0;34m\u001b[0m\u001b[0m\n\u001b[0;32m---> 20\u001b[0;31m \u001b[0;32mfrom\u001b[0m \u001b[0mkeras\u001b[0m \u001b[0;32mimport\u001b[0m \u001b[0mmetrics\u001b[0m \u001b[0;32mas\u001b[0m \u001b[0mmetrics_module\u001b[0m\u001b[0;34m\u001b[0m\u001b[0;34m\u001b[0m\u001b[0m\n\u001b[0m\u001b[1;32m     21\u001b[0m \u001b[0;32mfrom\u001b[0m \u001b[0mkeras\u001b[0m \u001b[0;32mimport\u001b[0m \u001b[0moptimizer_v1\u001b[0m\u001b[0;34m\u001b[0m\u001b[0;34m\u001b[0m\u001b[0m\n\u001b[1;32m     22\u001b[0m \u001b[0;32mfrom\u001b[0m \u001b[0mkeras\u001b[0m\u001b[0;34m.\u001b[0m\u001b[0mengine\u001b[0m \u001b[0;32mimport\u001b[0m \u001b[0mfunctional\u001b[0m\u001b[0;34m\u001b[0m\u001b[0;34m\u001b[0m\u001b[0m\n",
            "\u001b[0;32m/usr/local/lib/python3.7/dist-packages/keras/metrics.py\u001b[0m in \u001b[0;36m<module>\u001b[0;34m()\u001b[0m\n\u001b[1;32m     22\u001b[0m \u001b[0;32mimport\u001b[0m \u001b[0mwarnings\u001b[0m\u001b[0;34m\u001b[0m\u001b[0;34m\u001b[0m\u001b[0m\n\u001b[1;32m     23\u001b[0m \u001b[0;34m\u001b[0m\u001b[0m\n\u001b[0;32m---> 24\u001b[0;31m \u001b[0;32mfrom\u001b[0m \u001b[0mkeras\u001b[0m \u001b[0;32mimport\u001b[0m \u001b[0mactivations\u001b[0m\u001b[0;34m\u001b[0m\u001b[0;34m\u001b[0m\u001b[0m\n\u001b[0m\u001b[1;32m     25\u001b[0m \u001b[0;32mfrom\u001b[0m \u001b[0mkeras\u001b[0m \u001b[0;32mimport\u001b[0m \u001b[0mbackend\u001b[0m\u001b[0;34m\u001b[0m\u001b[0;34m\u001b[0m\u001b[0m\n\u001b[1;32m     26\u001b[0m \u001b[0;32mfrom\u001b[0m \u001b[0mkeras\u001b[0m\u001b[0;34m.\u001b[0m\u001b[0mengine\u001b[0m \u001b[0;32mimport\u001b[0m \u001b[0mbase_layer\u001b[0m\u001b[0;34m\u001b[0m\u001b[0;34m\u001b[0m\u001b[0m\n",
            "\u001b[0;32m/usr/local/lib/python3.7/dist-packages/keras/activations.py\u001b[0m in \u001b[0;36m<module>\u001b[0;34m()\u001b[0m\n\u001b[1;32m     18\u001b[0m \u001b[0;34m\u001b[0m\u001b[0m\n\u001b[1;32m     19\u001b[0m \u001b[0;32mfrom\u001b[0m \u001b[0mkeras\u001b[0m \u001b[0;32mimport\u001b[0m \u001b[0mbackend\u001b[0m\u001b[0;34m\u001b[0m\u001b[0;34m\u001b[0m\u001b[0m\n\u001b[0;32m---> 20\u001b[0;31m \u001b[0;32mfrom\u001b[0m \u001b[0mkeras\u001b[0m\u001b[0;34m.\u001b[0m\u001b[0mlayers\u001b[0m \u001b[0;32mimport\u001b[0m \u001b[0madvanced_activations\u001b[0m\u001b[0;34m\u001b[0m\u001b[0;34m\u001b[0m\u001b[0m\n\u001b[0m\u001b[1;32m     21\u001b[0m \u001b[0;32mfrom\u001b[0m \u001b[0mkeras\u001b[0m\u001b[0;34m.\u001b[0m\u001b[0mutils\u001b[0m\u001b[0;34m.\u001b[0m\u001b[0mgeneric_utils\u001b[0m \u001b[0;32mimport\u001b[0m \u001b[0mdeserialize_keras_object\u001b[0m\u001b[0;34m\u001b[0m\u001b[0;34m\u001b[0m\u001b[0m\n\u001b[1;32m     22\u001b[0m \u001b[0;32mfrom\u001b[0m \u001b[0mkeras\u001b[0m\u001b[0;34m.\u001b[0m\u001b[0mutils\u001b[0m\u001b[0;34m.\u001b[0m\u001b[0mgeneric_utils\u001b[0m \u001b[0;32mimport\u001b[0m \u001b[0mserialize_keras_object\u001b[0m\u001b[0;34m\u001b[0m\u001b[0;34m\u001b[0m\u001b[0m\n",
            "\u001b[0;32m/usr/local/lib/python3.7/dist-packages/keras/layers/__init__.py\u001b[0m in \u001b[0;36m<module>\u001b[0;34m()\u001b[0m\n\u001b[1;32m     25\u001b[0m \u001b[0;32mfrom\u001b[0m \u001b[0mkeras\u001b[0m\u001b[0;34m.\u001b[0m\u001b[0mengine\u001b[0m\u001b[0;34m.\u001b[0m\u001b[0minput_spec\u001b[0m \u001b[0;32mimport\u001b[0m \u001b[0mInputSpec\u001b[0m\u001b[0;34m\u001b[0m\u001b[0;34m\u001b[0m\u001b[0m\n\u001b[1;32m     26\u001b[0m \u001b[0;32mfrom\u001b[0m \u001b[0mkeras\u001b[0m\u001b[0;34m.\u001b[0m\u001b[0mengine\u001b[0m\u001b[0;34m.\u001b[0m\u001b[0mbase_layer\u001b[0m \u001b[0;32mimport\u001b[0m \u001b[0mLayer\u001b[0m\u001b[0;34m\u001b[0m\u001b[0;34m\u001b[0m\u001b[0m\n\u001b[0;32m---> 27\u001b[0;31m \u001b[0;32mfrom\u001b[0m \u001b[0mkeras\u001b[0m\u001b[0;34m.\u001b[0m\u001b[0mengine\u001b[0m\u001b[0;34m.\u001b[0m\u001b[0mbase_preprocessing_layer\u001b[0m \u001b[0;32mimport\u001b[0m \u001b[0mPreprocessingLayer\u001b[0m\u001b[0;34m\u001b[0m\u001b[0;34m\u001b[0m\u001b[0m\n\u001b[0m\u001b[1;32m     28\u001b[0m \u001b[0;34m\u001b[0m\u001b[0m\n\u001b[1;32m     29\u001b[0m \u001b[0;31m# Image preprocessing layers.\u001b[0m\u001b[0;34m\u001b[0m\u001b[0;34m\u001b[0m\u001b[0;34m\u001b[0m\u001b[0m\n",
            "\u001b[0;32m/usr/local/lib/python3.7/dist-packages/keras/engine/base_preprocessing_layer.py\u001b[0m in \u001b[0;36m<module>\u001b[0;34m()\u001b[0m\n\u001b[1;32m     17\u001b[0m \u001b[0;32mimport\u001b[0m \u001b[0mabc\u001b[0m\u001b[0;34m\u001b[0m\u001b[0;34m\u001b[0m\u001b[0m\n\u001b[1;32m     18\u001b[0m \u001b[0;34m\u001b[0m\u001b[0m\n\u001b[0;32m---> 19\u001b[0;31m \u001b[0;32mfrom\u001b[0m \u001b[0mkeras\u001b[0m\u001b[0;34m.\u001b[0m\u001b[0mengine\u001b[0m \u001b[0;32mimport\u001b[0m \u001b[0mdata_adapter\u001b[0m\u001b[0;34m\u001b[0m\u001b[0;34m\u001b[0m\u001b[0m\n\u001b[0m\u001b[1;32m     20\u001b[0m \u001b[0;32mfrom\u001b[0m \u001b[0mkeras\u001b[0m\u001b[0;34m.\u001b[0m\u001b[0mengine\u001b[0m\u001b[0;34m.\u001b[0m\u001b[0mbase_layer\u001b[0m \u001b[0;32mimport\u001b[0m \u001b[0mLayer\u001b[0m\u001b[0;34m\u001b[0m\u001b[0;34m\u001b[0m\u001b[0m\n\u001b[1;32m     21\u001b[0m \u001b[0;32mfrom\u001b[0m \u001b[0mkeras\u001b[0m\u001b[0;34m.\u001b[0m\u001b[0mutils\u001b[0m \u001b[0;32mimport\u001b[0m \u001b[0mversion_utils\u001b[0m\u001b[0;34m\u001b[0m\u001b[0;34m\u001b[0m\u001b[0m\n",
            "\u001b[0;32m/usr/local/lib/python3.7/dist-packages/keras/engine/data_adapter.py\u001b[0m in \u001b[0;36m<module>\u001b[0;34m()\u001b[0m\n\u001b[1;32m     36\u001b[0m \u001b[0;34m\u001b[0m\u001b[0m\n\u001b[1;32m     37\u001b[0m \u001b[0;32mtry\u001b[0m\u001b[0;34m:\u001b[0m\u001b[0;34m\u001b[0m\u001b[0;34m\u001b[0m\u001b[0m\n\u001b[0;32m---> 38\u001b[0;31m   \u001b[0;32mimport\u001b[0m \u001b[0mpandas\u001b[0m \u001b[0;32mas\u001b[0m \u001b[0mpd\u001b[0m  \u001b[0;31m# pylint: disable=g-import-not-at-top\u001b[0m\u001b[0;34m\u001b[0m\u001b[0;34m\u001b[0m\u001b[0m\n\u001b[0m\u001b[1;32m     39\u001b[0m \u001b[0;32mexcept\u001b[0m \u001b[0mImportError\u001b[0m\u001b[0;34m:\u001b[0m\u001b[0;34m\u001b[0m\u001b[0;34m\u001b[0m\u001b[0m\n\u001b[1;32m     40\u001b[0m   \u001b[0mpd\u001b[0m \u001b[0;34m=\u001b[0m \u001b[0;32mNone\u001b[0m\u001b[0;34m\u001b[0m\u001b[0;34m\u001b[0m\u001b[0m\n",
            "\u001b[0;32m/usr/local/lib/python3.7/dist-packages/pandas/__init__.py\u001b[0m in \u001b[0;36m<module>\u001b[0;34m()\u001b[0m\n\u001b[1;32m    177\u001b[0m \u001b[0;34m\u001b[0m\u001b[0m\n\u001b[1;32m    178\u001b[0m \u001b[0;32mfrom\u001b[0m \u001b[0mpandas\u001b[0m\u001b[0;34m.\u001b[0m\u001b[0mutil\u001b[0m\u001b[0;34m.\u001b[0m\u001b[0m_tester\u001b[0m \u001b[0;32mimport\u001b[0m \u001b[0mtest\u001b[0m\u001b[0;34m\u001b[0m\u001b[0;34m\u001b[0m\u001b[0m\n\u001b[0;32m--> 179\u001b[0;31m \u001b[0;32mimport\u001b[0m \u001b[0mpandas\u001b[0m\u001b[0;34m.\u001b[0m\u001b[0mtesting\u001b[0m\u001b[0;34m\u001b[0m\u001b[0;34m\u001b[0m\u001b[0m\n\u001b[0m\u001b[1;32m    180\u001b[0m \u001b[0;32mimport\u001b[0m \u001b[0mpandas\u001b[0m\u001b[0;34m.\u001b[0m\u001b[0marrays\u001b[0m\u001b[0;34m\u001b[0m\u001b[0;34m\u001b[0m\u001b[0m\n\u001b[1;32m    181\u001b[0m \u001b[0;34m\u001b[0m\u001b[0m\n",
            "\u001b[0;32m/usr/local/lib/python3.7/dist-packages/pandas/testing.py\u001b[0m in \u001b[0;36m<module>\u001b[0;34m()\u001b[0m\n\u001b[1;32m      4\u001b[0m \u001b[0;34m\u001b[0m\u001b[0m\n\u001b[1;32m      5\u001b[0m \u001b[0;34m\u001b[0m\u001b[0m\n\u001b[0;32m----> 6\u001b[0;31m from pandas._testing import (\n\u001b[0m\u001b[1;32m      7\u001b[0m     \u001b[0massert_extension_array_equal\u001b[0m\u001b[0;34m,\u001b[0m\u001b[0;34m\u001b[0m\u001b[0;34m\u001b[0m\u001b[0m\n\u001b[1;32m      8\u001b[0m     \u001b[0massert_frame_equal\u001b[0m\u001b[0;34m,\u001b[0m\u001b[0;34m\u001b[0m\u001b[0;34m\u001b[0m\u001b[0m\n",
            "\u001b[0;32m/usr/local/lib/python3.7/dist-packages/pandas/_testing/__init__.py\u001b[0m in \u001b[0;36m<module>\u001b[0;34m()\u001b[0m\n\u001b[1;32m    946\u001b[0m \u001b[0;34m\u001b[0m\u001b[0m\n\u001b[1;32m    947\u001b[0m \u001b[0;34m\u001b[0m\u001b[0m\n\u001b[0;32m--> 948\u001b[0;31m \u001b[0mcython_table\u001b[0m \u001b[0;34m=\u001b[0m \u001b[0mpd\u001b[0m\u001b[0;34m.\u001b[0m\u001b[0mcore\u001b[0m\u001b[0;34m.\u001b[0m\u001b[0mcommon\u001b[0m\u001b[0;34m.\u001b[0m\u001b[0m_cython_table\u001b[0m\u001b[0;34m.\u001b[0m\u001b[0mitems\u001b[0m\u001b[0;34m(\u001b[0m\u001b[0;34m)\u001b[0m\u001b[0;34m\u001b[0m\u001b[0;34m\u001b[0m\u001b[0m\n\u001b[0m\u001b[1;32m    949\u001b[0m \u001b[0;34m\u001b[0m\u001b[0m\n\u001b[1;32m    950\u001b[0m \u001b[0;34m\u001b[0m\u001b[0m\n",
            "\u001b[0;31mAttributeError\u001b[0m: module 'pandas' has no attribute 'core'"
          ]
        }
      ]
    },
    {
      "cell_type": "markdown",
      "source": [
        "## Data collection from GitHub"
      ],
      "metadata": {
        "id": "KbwMbWPIhUy6"
      }
    },
    {
      "cell_type": "markdown",
      "source": [
        "####**Tag 1 PTR MS** \n",
        "links: BHA \\\\\n",
        "rechts: control"
      ],
      "metadata": {
        "id": "wKzDq93kdRku"
      }
    },
    {
      "cell_type": "code",
      "source": [
        "url_0min_left_BHA = \"https://raw.githubusercontent.com/CharKuehl/DermalVOCs/main/DataFile_2022.03.07-12h48m11s_AS.csv\"\n",
        "url_0min_right_control = \"https://raw.githubusercontent.com/CharKuehl/DermalVOCs/main/DataFile_2022.03.07-13h05m22s_AS.csv\"\n",
        "url_5min_left_BHA = \"https://raw.githubusercontent.com/CharKuehl/DermalVOCs/main/DataFile_2022.03.07-13h31m08s_AS.csv\"\n",
        "url_5min_right_control = \"https://raw.githubusercontent.com/CharKuehl/DermalVOCs/main/DataFile_2022.03.07-13h50m02s_AS.csv\"\n",
        "url_60min_left_BHA = \"https://raw.githubusercontent.com/CharKuehl/DermalVOCs/main/DataFile_2022.03.07-14h28m11s_AS.csv\"\n",
        "url_60min_right_control = \"https://raw.githubusercontent.com/CharKuehl/DermalVOCs/main/DataFile_2022.03.07-14h46m02s_AS.csv\"\n",
        "url_120min_left_BHA =\"https://raw.githubusercontent.com/CharKuehl/DermalVOCs/main/DataFile_2022.03.07-15h26m18s_AS.csv\"\n",
        "url_120min_right_control = \"https://raw.githubusercontent.com/CharKuehl/DermalVOCs/main/DataFile_2022.03.07-15h46m44s_AS.csv\""
      ],
      "metadata": {
        "id": "NnslS3S8R5WH"
      },
      "execution_count": null,
      "outputs": []
    },
    {
      "cell_type": "markdown",
      "source": [
        ""
      ],
      "metadata": {
        "id": "To0n28l2ztDs"
      }
    },
    {
      "cell_type": "markdown",
      "source": [
        "####**Tag 2 PTR MS** \n",
        "links: stripping \\\\\n",
        "rechts: BHA"
      ],
      "metadata": {
        "id": "NGhrTsU63kYk"
      }
    },
    {
      "cell_type": "code",
      "source": [
        "url2_0min_left_stripping = \"https://raw.githubusercontent.com/CharKuehl/DermalVOCs/main/DataFile_2022.03.08-10h05m53s_AS.csv\"\n",
        "url2_0min_right_BHA = \"https://raw.githubusercontent.com/CharKuehl/DermalVOCs/main/DataFile_2022.03.08-10h26m22s_AS.csv\"\n",
        "url2_5min_left_stripping = \"https://raw.githubusercontent.com/CharKuehl/DermalVOCs/main/DataFile_2022.03.08-10h48m16s_AS.csv\"\n",
        "url2_5min_right_BHA = \"https://raw.githubusercontent.com/CharKuehl/DermalVOCs/main/DataFile_2022.03.08-11h11m09s_AS.csv\"\n",
        "url2_60min_left_stripping = \"https://raw.githubusercontent.com/CharKuehl/DermalVOCs/main/DataFile_2022.03.08-11h40m23s_AS.csv\"\n",
        "url2_60min_right_BHA = \"https://raw.githubusercontent.com/CharKuehl/DermalVOCs/main/DataFile_2022.03.08-12h07m15s_AS.csv\"\n",
        "url2_120min_left_stripping =\"https://raw.githubusercontent.com/CharKuehl/DermalVOCs/main/DataFile_2022.03.08-12h42m08s_AS.csv\"\n",
        "url2_120min_right_BHA = \"https://raw.githubusercontent.com/CharKuehl/DermalVOCs/main/DataFile_2022.03.08-13h07m42s_AS.csv\""
      ],
      "metadata": {
        "id": "c8vV-nRs39y2"
      },
      "execution_count": null,
      "outputs": []
    },
    {
      "cell_type": "markdown",
      "source": [
        "####**Tag 3 PTR MS** \n",
        "links: stripping \\\\\n",
        "rechts: control"
      ],
      "metadata": {
        "id": "IYB47wmsWuOQ"
      }
    },
    {
      "cell_type": "code",
      "source": [
        "url3_0min_left_stripping = \"https://raw.githubusercontent.com/CharKuehl/DermalVOCs/main/DataFile_2022.03.17-09h28m22s_AS.csv\"\n",
        "url3_0min_right_control = \"https://raw.githubusercontent.com/CharKuehl/DermalVOCs/main/DataFile_2022.03.17-09h39m47s_AS.csv\"\n",
        "url3_5min_left_stripping = \"https://raw.githubusercontent.com/CharKuehl/DermalVOCs/main/DataFile_2022.03.17-09h56m21s_AS.csv\"\n",
        "url3_5min_right_control = \"https://raw.githubusercontent.com/CharKuehl/DermalVOCs/main/DataFile_2022.03.17-10h07m39s_AS.csv\"\n",
        "url3_60min_left_stripping = \"https://raw.githubusercontent.com/CharKuehl/DermalVOCs/main/DataFile_2022.03.17-10h39m23s_AS.csv\"\n",
        "url3_60min_right_control = \"https://raw.githubusercontent.com/CharKuehl/DermalVOCs/main/DataFile_2022.03.17-10h51m19s_AS.csv\"\n",
        "url3_120min_left_stripping =\"https://raw.githubusercontent.com/CharKuehl/DermalVOCs/main/DataFile_2022.03.17-11h23m17s_AS.csv\"\n",
        "url3_120min_right_control = \"https://raw.githubusercontent.com/CharKuehl/DermalVOCs/main/DataFile_2022.03.17-11h35m36s_AS.csv\""
      ],
      "metadata": {
        "id": "svbpjBlFW0Vy"
      },
      "execution_count": null,
      "outputs": []
    },
    {
      "cell_type": "markdown",
      "source": [
        "####**Tag 4 PTR MS** \n",
        "links: BHA \\\\\n",
        "rechts: stripping"
      ],
      "metadata": {
        "id": "_LtO6jVfpnQb"
      }
    },
    {
      "cell_type": "code",
      "source": [
        "url4_0min_left_BHA = \"https://raw.githubusercontent.com/CharKuehl/DermalVOCs/main/DataFile_2022.03.18-09h06m35s_AS.csv\"\n",
        "url4_0min_right_stripping = \"https://raw.githubusercontent.com/CharKuehl/DermalVOCs/main/DataFile_2022.03.18-09h17m39s_AS.csv\"\n",
        "url4_5min_left_BHA = \"https://raw.githubusercontent.com/CharKuehl/DermalVOCs/main/DataFile_2022.03.18-09h29m19s_AS.csv\"\n",
        "url4_5min_right_stripping = \"https://raw.githubusercontent.com/CharKuehl/DermalVOCs/main/DataFile_2022.03.18-09h42m53s_AS.csv\"\n",
        "url4_60min_left_BHA = \"https://raw.githubusercontent.com/CharKuehl/DermalVOCs/main/DataFile_2022.03.18-10h16m18s_AS.csv\"\n",
        "url4_60min_right_stripping = \"https://raw.githubusercontent.com/CharKuehl/DermalVOCs/main/DataFile_2022.03.18-10h34m44s_AS.csv\"\n",
        "url4_120min_left_BHA =\"https://raw.githubusercontent.com/CharKuehl/DermalVOCs/main/DataFile_2022.03.18-11h13m02s_AS.csv\"\n",
        "url4_120min_right_stripping = \"https://raw.githubusercontent.com/CharKuehl/DermalVOCs/main/DataFile_2022.03.18-11h26m23s_AS.csv\""
      ],
      "metadata": {
        "id": "ibTGqDOQpwtV"
      },
      "execution_count": null,
      "outputs": []
    },
    {
      "cell_type": "markdown",
      "source": [
        "##Read in BHA data"
      ],
      "metadata": {
        "id": "QOW1-sfEiEpX"
      }
    },
    {
      "cell_type": "markdown",
      "source": [
        "###07.03.2022"
      ],
      "metadata": {
        "id": "VrcKtY5QiQ0O"
      }
    },
    {
      "cell_type": "markdown",
      "source": [
        " **07.03. 0 min BHA:**"
      ],
      "metadata": {
        "id": "GabCXr5yfrSJ"
      }
    },
    {
      "cell_type": "code",
      "source": [
        "df = pd.read_csv(url_0min_left_BHA, sep= \";\")\n",
        "df = df.iloc[:,0:]\n",
        "df = df.drop(columns=[\"Current_Mass\", \"Current\"])\n",
        "df = df.rename(columns={\"Average_Mass\": \"m/z\", \"Average\": \"intensity\"})\n",
        "df0307_0min_left_BHA = df[df['m/z'] > 19]  \n",
        "df0307_0min_left_BHA = df[df['m/z'] < 200]\n",
        "#df0307_0min_left_BHA = df[df.m/z <= 20]\n",
        "#df0307_0min_left_BHA = df.drop(df[df['m/z'] <= 20].index, inplace = True)\n",
        "#df0307_0min_left_BHA"
      ],
      "metadata": {
        "id": "wbWUieffdl5q",
        "colab": {
          "base_uri": "https://localhost:8080/",
          "height": 283
        },
        "outputId": "e123e1fe-749c-4a44-b604-cf867f048dd4"
      },
      "execution_count": null,
      "outputs": [
        {
          "output_type": "error",
          "ename": "NameError",
          "evalue": "ignored",
          "traceback": [
            "\u001b[0;31m---------------------------------------------------------------------------\u001b[0m",
            "\u001b[0;31mNameError\u001b[0m                                 Traceback (most recent call last)",
            "\u001b[0;32m<ipython-input-21-17329c55d925>\u001b[0m in \u001b[0;36m<module>\u001b[0;34m()\u001b[0m\n\u001b[0;32m----> 1\u001b[0;31m \u001b[0mdf\u001b[0m \u001b[0;34m=\u001b[0m \u001b[0mpd\u001b[0m\u001b[0;34m.\u001b[0m\u001b[0mread_csv\u001b[0m\u001b[0;34m(\u001b[0m\u001b[0murl_0min_left_BHA\u001b[0m\u001b[0;34m,\u001b[0m \u001b[0msep\u001b[0m\u001b[0;34m=\u001b[0m \u001b[0;34m\";\"\u001b[0m\u001b[0;34m)\u001b[0m\u001b[0;34m\u001b[0m\u001b[0;34m\u001b[0m\u001b[0m\n\u001b[0m\u001b[1;32m      2\u001b[0m \u001b[0mdf\u001b[0m \u001b[0;34m=\u001b[0m \u001b[0mdf\u001b[0m\u001b[0;34m.\u001b[0m\u001b[0miloc\u001b[0m\u001b[0;34m[\u001b[0m\u001b[0;34m:\u001b[0m\u001b[0;34m,\u001b[0m\u001b[0;36m0\u001b[0m\u001b[0;34m:\u001b[0m\u001b[0;34m]\u001b[0m\u001b[0;34m\u001b[0m\u001b[0;34m\u001b[0m\u001b[0m\n\u001b[1;32m      3\u001b[0m \u001b[0mdf\u001b[0m \u001b[0;34m=\u001b[0m \u001b[0mdf\u001b[0m\u001b[0;34m.\u001b[0m\u001b[0mdrop\u001b[0m\u001b[0;34m(\u001b[0m\u001b[0mcolumns\u001b[0m\u001b[0;34m=\u001b[0m\u001b[0;34m[\u001b[0m\u001b[0;34m\"Current_Mass\"\u001b[0m\u001b[0;34m,\u001b[0m \u001b[0;34m\"Current\"\u001b[0m\u001b[0;34m]\u001b[0m\u001b[0;34m)\u001b[0m\u001b[0;34m\u001b[0m\u001b[0;34m\u001b[0m\u001b[0m\n\u001b[1;32m      4\u001b[0m \u001b[0mdf\u001b[0m \u001b[0;34m=\u001b[0m \u001b[0mdf\u001b[0m\u001b[0;34m.\u001b[0m\u001b[0mrename\u001b[0m\u001b[0;34m(\u001b[0m\u001b[0mcolumns\u001b[0m\u001b[0;34m=\u001b[0m\u001b[0;34m{\u001b[0m\u001b[0;34m\"Average_Mass\"\u001b[0m\u001b[0;34m:\u001b[0m \u001b[0;34m\"m/z\"\u001b[0m\u001b[0;34m,\u001b[0m \u001b[0;34m\"Average\"\u001b[0m\u001b[0;34m:\u001b[0m \u001b[0;34m\"intensity\"\u001b[0m\u001b[0;34m}\u001b[0m\u001b[0;34m)\u001b[0m\u001b[0;34m\u001b[0m\u001b[0;34m\u001b[0m\u001b[0m\n\u001b[1;32m      5\u001b[0m \u001b[0mdf0307_0min_left_BHA\u001b[0m \u001b[0;34m=\u001b[0m \u001b[0mdf\u001b[0m\u001b[0;34m[\u001b[0m\u001b[0mdf\u001b[0m\u001b[0;34m[\u001b[0m\u001b[0;34m'm/z'\u001b[0m\u001b[0;34m]\u001b[0m \u001b[0;34m>\u001b[0m \u001b[0;36m19\u001b[0m\u001b[0;34m]\u001b[0m\u001b[0;34m\u001b[0m\u001b[0;34m\u001b[0m\u001b[0m\n",
            "\u001b[0;31mNameError\u001b[0m: name 'pd' is not defined"
          ]
        }
      ]
    },
    {
      "cell_type": "markdown",
      "source": [
        "**07.03. 5 min BHA:**"
      ],
      "metadata": {
        "id": "cy-tN9EFgWY4"
      }
    },
    {
      "cell_type": "code",
      "source": [
        "df = pd.read_csv(url_5min_left_BHA, sep= \";\")\n",
        "df = df.iloc[:,0:]\n",
        "df = df.drop(columns=[\"Current_Mass\", \"Current\"])\n",
        "df = df.rename(columns={\"Average_Mass\": \"m/z\", \"Average\": \"intensity\"})\n",
        "df0307_5min_left_BHA = df[df['m/z'] > 19]  \n",
        "df0307_5min_left_BHA = df[df['m/z'] < 200]\n",
        "#df_0min_left_BHA = df[df.m/z <= 20]\n",
        "#df_0min_left_BHA = df.drop(df[df['m/z'] <= 20].index, inplace = True)\n",
        "#df0307_5min_left_BHA"
      ],
      "metadata": {
        "id": "Iz7zZTjKfi27"
      },
      "execution_count": null,
      "outputs": []
    },
    {
      "cell_type": "markdown",
      "source": [
        "**07.03. 60 min BHA:**"
      ],
      "metadata": {
        "id": "IVmpGRoMhIBd"
      }
    },
    {
      "cell_type": "code",
      "source": [
        "df = pd.read_csv(url_60min_left_BHA, sep= \";\")\n",
        "df = df.iloc[:,0:]\n",
        "df = df.drop(columns=[\"Current_Mass\", \"Current\"])\n",
        "df = df.rename(columns={\"Average_Mass\": \"m/z\", \"Average\": \"intensity\"})\n",
        "df0307_60min_left_BHA = df[df['m/z'] > 19]  \n",
        "df0307_60min_left_BHA = df[df['m/z'] < 200]\n",
        "#df_0min_left_BHA = df[df.m/z <= 20]\n",
        "#df_0min_left_BHA = df.drop(df[df['m/z'] <= 20].index, inplace = True)\n",
        "#df0307_60min_left_BHA"
      ],
      "metadata": {
        "id": "NXwbQ7EohBDp"
      },
      "execution_count": null,
      "outputs": []
    },
    {
      "cell_type": "markdown",
      "source": [
        "**07.03. 120 min BHA:**"
      ],
      "metadata": {
        "id": "WpDPXsojh8fo"
      }
    },
    {
      "cell_type": "code",
      "source": [
        "df = pd.read_csv(url_120min_left_BHA, sep= \";\")\n",
        "df = df.iloc[:,0:]\n",
        "df = df.drop(columns=[\"Current_Mass\", \"Current\"])\n",
        "df = df.rename(columns={\"Average_Mass\": \"m/z\", \"Average\": \"intensity\"})\n",
        "df0307_120min_left_BHA = df[df['m/z'] > 19]  \n",
        "df0307_120min_left_BHA = df[df['m/z'] < 200]\n",
        "#df_0min_left_BHA = df[df.m/z <= 20]\n",
        "#df_0min_left_BHA = df.drop(df[df['m/z'] <= 20].index, inplace = True)\n",
        "#df0307_120min_left_BHA"
      ],
      "metadata": {
        "id": "N4gnpfVChpnX"
      },
      "execution_count": null,
      "outputs": []
    },
    {
      "cell_type": "markdown",
      "source": [
        "###08.03.2022\n"
      ],
      "metadata": {
        "id": "9Dnj0Tji5M0K"
      }
    },
    {
      "cell_type": "markdown",
      "source": [
        "**08.03. right 0 min BHA:**"
      ],
      "metadata": {
        "id": "_7YTMwqw5Tos"
      }
    },
    {
      "cell_type": "code",
      "source": [
        "df = pd.read_csv(url2_0min_right_BHA, sep= \";\")\n",
        "df = df.iloc[:,0:]\n",
        "df = df.drop(columns=[\"Current_Mass\", \"Current\"])\n",
        "df = df.rename(columns={\"Average_Mass\": \"m/z\", \"Average\": \"intensity\"})\n",
        "df0308_0min_right_BHA = df[df['m/z'] > 19]  \n",
        "df0308_0min_right_BHA = df[df['m/z'] < 200]\n",
        "df0308_0min_right_BHA"
      ],
      "metadata": {
        "id": "86FzoT0t51l3"
      },
      "execution_count": null,
      "outputs": []
    },
    {
      "cell_type": "markdown",
      "source": [
        "**08.03. right 5 min BHA:**"
      ],
      "metadata": {
        "id": "9Uvb5pY5WFoC"
      }
    },
    {
      "cell_type": "code",
      "source": [
        "df = pd.read_csv(url2_5min_right_BHA, sep= \";\")\n",
        "df = df.iloc[:,0:]\n",
        "df = df.drop(columns=[\"Current_Mass\", \"Current\"])\n",
        "df = df.rename(columns={\"Average_Mass\": \"m/z\", \"Average\": \"intensity\"})\n",
        "df0308_5min_right_BHA = df[df['m/z'] > 19]  \n",
        "df0308_5min_right_BHA = df[df['m/z'] < 200]\n",
        "df0308_5min_right_BHA"
      ],
      "metadata": {
        "id": "CaZGpNN9WLao"
      },
      "execution_count": null,
      "outputs": []
    },
    {
      "cell_type": "markdown",
      "source": [
        "**08.03. right 60 min BHA:**"
      ],
      "metadata": {
        "id": "xYiBqxKLWTZC"
      }
    },
    {
      "cell_type": "code",
      "source": [
        "df = pd.read_csv(url2_60min_right_BHA, sep= \";\")\n",
        "df = df.iloc[:,0:]\n",
        "df = df.drop(columns=[\"Current_Mass\", \"Current\"])\n",
        "df = df.rename(columns={\"Average_Mass\": \"m/z\", \"Average\": \"intensity\"})\n",
        "df0308_60min_right_BHA = df[df['m/z'] > 19]  \n",
        "df0308_60min_right_BHA = df[df['m/z'] < 200]\n",
        "df0308_60min_right_BHA"
      ],
      "metadata": {
        "id": "gt_TSKiVWV1l"
      },
      "execution_count": null,
      "outputs": []
    },
    {
      "cell_type": "markdown",
      "source": [
        "**08.03. right 120 min BHA:**"
      ],
      "metadata": {
        "id": "TfEd6PqqWfxP"
      }
    },
    {
      "cell_type": "code",
      "source": [
        "df = pd.read_csv(url2_120min_right_BHA, sep= \";\")\n",
        "df = df.iloc[:,0:]\n",
        "df = df.drop(columns=[\"Current_Mass\", \"Current\"])\n",
        "df = df.rename(columns={\"Average_Mass\": \"m/z\", \"Average\": \"intensity\"})\n",
        "df0308_120min_right_BHA = df[df['m/z'] > 19]  \n",
        "df0308_120min_right_BHA = df[df['m/z'] < 200]\n",
        "df0308_120min_right_BHA"
      ],
      "metadata": {
        "id": "R3mN9Db0WhSq"
      },
      "execution_count": null,
      "outputs": []
    },
    {
      "cell_type": "markdown",
      "source": [
        "###18.03.2022\n"
      ],
      "metadata": {
        "id": "IVUnftS5dMEs"
      }
    },
    {
      "cell_type": "markdown",
      "source": [
        "**18.03. left 0 min BHA:**"
      ],
      "metadata": {
        "id": "E6PnszwndQ5f"
      }
    },
    {
      "cell_type": "code",
      "source": [
        "df = pd.read_csv(url4_0min_left_BHA, sep= \";\")\n",
        "df = df.iloc[:,0:]\n",
        "df = df.drop(columns=[\"Current_Mass\", \"Current\"])\n",
        "df = df.rename(columns={\"Average_Mass\": \"m/z\", \"Average\": \"intensity\"})\n",
        "df0318_0min_right_BHA = df[df['m/z'] > 19]  \n",
        "df0318_0min_right_BHA = df[df['m/z'] < 200]\n",
        "df0318_0min_right_BHA"
      ],
      "metadata": {
        "id": "8HgyRcYJsbjz"
      },
      "execution_count": null,
      "outputs": []
    },
    {
      "cell_type": "markdown",
      "source": [
        "**18.03. left 5 min BHA:**"
      ],
      "metadata": {
        "id": "t2oRlfvxtAQV"
      }
    },
    {
      "cell_type": "code",
      "source": [
        "df = pd.read_csv(url4_5min_left_BHA, sep= \";\")\n",
        "df = df.iloc[:,0:]\n",
        "df = df.drop(columns=[\"Current_Mass\", \"Current\"])\n",
        "df = df.rename(columns={\"Average_Mass\": \"m/z\", \"Average\": \"intensity\"})\n",
        "df0318_5min_right_BHA = df[df['m/z'] > 19]  \n",
        "df0318_5min_right_BHA = df[df['m/z'] < 200]\n",
        "df0318_5min_right_BHA"
      ],
      "metadata": {
        "id": "Vs-PQYjYtCDv"
      },
      "execution_count": null,
      "outputs": []
    },
    {
      "cell_type": "markdown",
      "source": [
        "**18.03. left 60 min BHA:**"
      ],
      "metadata": {
        "id": "QdhNMiZVtJ6P"
      }
    },
    {
      "cell_type": "code",
      "source": [
        "df = pd.read_csv(url4_60min_left_BHA, sep= \";\")\n",
        "df = df.iloc[:,0:]\n",
        "df = df.drop(columns=[\"Current_Mass\", \"Current\"])\n",
        "df = df.rename(columns={\"Average_Mass\": \"m/z\", \"Average\": \"intensity\"})\n",
        "df0318_60min_right_BHA = df[df['m/z'] > 19]  \n",
        "df0318_60min_right_BHA = df[df['m/z'] < 200]\n",
        "df0318_60min_right_BHA"
      ],
      "metadata": {
        "id": "9eey6fE9tLfX"
      },
      "execution_count": null,
      "outputs": []
    },
    {
      "cell_type": "markdown",
      "source": [
        "**18.03. left 120 min BHA:**"
      ],
      "metadata": {
        "id": "Sk4_EcXytTTm"
      }
    },
    {
      "cell_type": "code",
      "source": [
        "df = pd.read_csv(url4_120min_left_BHA, sep= \";\")\n",
        "df = df.iloc[:,0:]\n",
        "df = df.drop(columns=[\"Current_Mass\", \"Current\"])\n",
        "df = df.rename(columns={\"Average_Mass\": \"m/z\", \"Average\": \"intensity\"})\n",
        "df0318_120min_right_BHA = df[df['m/z'] > 19]  \n",
        "df0318_120min_right_BHA = df[df['m/z'] < 200]\n",
        "df0318_120min_right_BHA"
      ],
      "metadata": {
        "id": "bURd4rPRtUyI"
      },
      "execution_count": null,
      "outputs": []
    },
    {
      "cell_type": "markdown",
      "source": [
        "##Read in Stripping data"
      ],
      "metadata": {
        "id": "CxJHteC1QNdt"
      }
    },
    {
      "cell_type": "markdown",
      "source": [
        "###08.03.2022"
      ],
      "metadata": {
        "id": "OjxuO-sLRTKH"
      }
    },
    {
      "cell_type": "markdown",
      "source": [
        "**08.03. left 0 min:**"
      ],
      "metadata": {
        "id": "pCX1L_QM5R1i"
      }
    },
    {
      "cell_type": "code",
      "source": [
        "df = pd.read_csv(url2_0min_left_stripping, sep= \";\")\n",
        "df = df.iloc[:,0:]\n",
        "df = df.drop(columns=[\"Current_Mass\", \"Current\"])\n",
        "df = df.rename(columns={\"Average_Mass\": \"m/z\", \"Average\": \"intensity\"})\n",
        "df0308_0min_left_stripping = df[df['m/z'] > 19]  \n",
        "df0308_0min_left_stripping = df[df['m/z'] < 200]\n",
        "#df0308_0min_left_stripping"
      ],
      "metadata": {
        "id": "NaGZq_Cn5PiQ"
      },
      "execution_count": null,
      "outputs": []
    },
    {
      "cell_type": "markdown",
      "source": [
        "**08.03. left 5 min:**"
      ],
      "metadata": {
        "id": "S52hQUcTQbd6"
      }
    },
    {
      "cell_type": "code",
      "source": [
        "df = pd.read_csv(url2_5min_left_stripping, sep= \";\")\n",
        "df = df.iloc[:,0:]\n",
        "df = df.drop(columns=[\"Current_Mass\", \"Current\"])\n",
        "df = df.rename(columns={\"Average_Mass\": \"m/z\", \"Average\": \"intensity\"})\n",
        "df0308_5min_left_stripping = df[df['m/z'] > 19]  \n",
        "df0308_5min_left_stripping = df[df['m/z'] < 200]\n",
        "df0308_5min_left_stripping"
      ],
      "metadata": {
        "id": "XV9p1vLXQa2Z"
      },
      "execution_count": null,
      "outputs": []
    },
    {
      "cell_type": "markdown",
      "source": [
        "**08.03. left 60 min:**"
      ],
      "metadata": {
        "id": "bz_RbcUJQuqA"
      }
    },
    {
      "cell_type": "code",
      "source": [
        "df = pd.read_csv(url2_60min_left_stripping, sep= \";\")\n",
        "df = df.iloc[:,0:]\n",
        "df = df.drop(columns=[\"Current_Mass\", \"Current\"])\n",
        "df = df.rename(columns={\"Average_Mass\": \"m/z\", \"Average\": \"intensity\"})\n",
        "df0308_60min_left_stripping = df[df['m/z'] > 19]  \n",
        "df0308_60min_left_stripping = df[df['m/z'] < 200]\n",
        "#df0308_60min_left_stripping"
      ],
      "metadata": {
        "id": "hab3zqoIQwYh"
      },
      "execution_count": null,
      "outputs": []
    },
    {
      "cell_type": "markdown",
      "source": [
        "**08.03. left 120 min:**"
      ],
      "metadata": {
        "id": "4ekuYi0NQ9tv"
      }
    },
    {
      "cell_type": "code",
      "source": [
        "df = pd.read_csv(url2_120min_left_stripping, sep= \";\")\n",
        "df = df.iloc[:,0:]\n",
        "df = df.drop(columns=[\"Current_Mass\", \"Current\"])\n",
        "df = df.rename(columns={\"Average_Mass\": \"m/z\", \"Average\": \"intensity\"})\n",
        "df0308_120min_left_stripping = df[df['m/z'] > 19]  \n",
        "df0308_120min_left_stripping = df[df['m/z'] < 200]\n",
        "#df0308_120min_left_stripping"
      ],
      "metadata": {
        "id": "IAxD8ypgRBHt"
      },
      "execution_count": null,
      "outputs": []
    },
    {
      "cell_type": "markdown",
      "source": [
        "###17.03.2022"
      ],
      "metadata": {
        "id": "QSN-OHdNRYZt"
      }
    },
    {
      "cell_type": "markdown",
      "source": [
        "**17.03. left 0 min:**"
      ],
      "metadata": {
        "id": "xEDu8KlFYvoo"
      }
    },
    {
      "cell_type": "code",
      "source": [
        "df = pd.read_csv(url3_0min_left_stripping, sep= \";\")\n",
        "df = df.iloc[:,0:]\n",
        "df = df.drop(columns=[\"Current_Mass\", \"Current\"])\n",
        "df = df.rename(columns={\"Average_Mass\": \"m/z\", \"Average\": \"intensity\"})\n",
        "df0317_0min_left_stripping = df[df['m/z'] > 19]  \n",
        "df0317_0min_left_stripping = df[df['m/z'] < 200]\n",
        "#df0317_0min_left_stripping"
      ],
      "metadata": {
        "id": "vfiDizWXRXZo"
      },
      "execution_count": null,
      "outputs": []
    },
    {
      "cell_type": "markdown",
      "source": [
        "**17.03. left 5 min:**"
      ],
      "metadata": {
        "id": "WsU_2Q9CaHep"
      }
    },
    {
      "cell_type": "code",
      "source": [
        "df = pd.read_csv(url3_5min_left_stripping, sep= \";\")\n",
        "df = df.iloc[:,0:]\n",
        "df = df.drop(columns=[\"Current_Mass\", \"Current\"])\n",
        "df = df.rename(columns={\"Average_Mass\": \"m/z\", \"Average\": \"intensity\"})\n",
        "df0317_5min_left_stripping = df[df['m/z'] > 19]  \n",
        "df0317_5min_left_stripping = df[df['m/z'] < 200]\n",
        "#df0317_5min_left_stripping"
      ],
      "metadata": {
        "id": "knVBvXh2aINV"
      },
      "execution_count": null,
      "outputs": []
    },
    {
      "cell_type": "markdown",
      "source": [
        "**17.03. left 60 min:**"
      ],
      "metadata": {
        "id": "KF08cCvBaRfT"
      }
    },
    {
      "cell_type": "code",
      "source": [
        "df = pd.read_csv(url3_60min_left_stripping, sep= \";\")\n",
        "df = df.iloc[:,0:]\n",
        "df = df.drop(columns=[\"Current_Mass\", \"Current\"])\n",
        "df = df.rename(columns={\"Average_Mass\": \"m/z\", \"Average\": \"intensity\"})\n",
        "df0317_60min_left_stripping = df[df['m/z'] > 19]  \n",
        "df0317_60min_left_stripping = df[df['m/z'] < 200]\n",
        "#df0317_60min_left_stripping"
      ],
      "metadata": {
        "id": "6ue-3qOiaPFD"
      },
      "execution_count": null,
      "outputs": []
    },
    {
      "cell_type": "markdown",
      "source": [
        "**17.03. left 120 min:**"
      ],
      "metadata": {
        "id": "wl46VhgtbMQY"
      }
    },
    {
      "cell_type": "code",
      "source": [
        "df = pd.read_csv(url3_120min_left_stripping, sep= \";\")\n",
        "df = df.iloc[:,0:]\n",
        "df = df.drop(columns=[\"Current_Mass\", \"Current\"])\n",
        "df = df.rename(columns={\"Average_Mass\": \"m/z\", \"Average\": \"intensity\"})\n",
        "df0317_120min_left_stripping = df[df['m/z'] > 19]  \n",
        "df0317_120min_left_stripping = df[df['m/z'] < 200]\n",
        "#df0317_120min_left_stripping"
      ],
      "metadata": {
        "id": "mJmMUh2fbNxA"
      },
      "execution_count": null,
      "outputs": []
    },
    {
      "cell_type": "markdown",
      "source": [
        "###18.03.2022"
      ],
      "metadata": {
        "id": "y_DsVwHbtiOf"
      }
    },
    {
      "cell_type": "markdown",
      "source": [
        "**18.03. right stripping 0 min:**"
      ],
      "metadata": {
        "id": "BHFAcxpDtnY_"
      }
    },
    {
      "cell_type": "code",
      "source": [
        "df = pd.read_csv(url4_0min_right_stripping, sep= \";\")\n",
        "df = df.iloc[:,0:]\n",
        "df = df.drop(columns=[\"Current_Mass\", \"Current\"])\n",
        "df = df.rename(columns={\"Average_Mass\": \"m/z\", \"Average\": \"intensity\"})\n",
        "df0318_0min_right_stripping = df[df['m/z'] > 19]  \n",
        "df0318_0min_right_stripping = df[df['m/z'] < 200]\n",
        "df0318_0min_right_stripping"
      ],
      "metadata": {
        "id": "fVtLFzkwtr4x"
      },
      "execution_count": null,
      "outputs": []
    },
    {
      "cell_type": "markdown",
      "source": [
        "**18.03. right stripping 5 min:**"
      ],
      "metadata": {
        "id": "EWp2GroMuKC9"
      }
    },
    {
      "cell_type": "code",
      "source": [
        "df = pd.read_csv(url4_5min_right_stripping, sep= \";\")\n",
        "df = df.iloc[:,0:]\n",
        "df = df.drop(columns=[\"Current_Mass\", \"Current\"])\n",
        "df = df.rename(columns={\"Average_Mass\": \"m/z\", \"Average\": \"intensity\"})\n",
        "df0318_5min_right_stripping = df[df['m/z'] > 19]  \n",
        "df0318_5min_right_stripping = df[df['m/z'] < 200]\n",
        "df0318_5min_right_stripping"
      ],
      "metadata": {
        "id": "v_MzZUiyuRmF"
      },
      "execution_count": null,
      "outputs": []
    },
    {
      "cell_type": "markdown",
      "source": [
        "**18.03. right stripping 60 min:**"
      ],
      "metadata": {
        "id": "PqpPPuD5uZ9z"
      }
    },
    {
      "cell_type": "code",
      "source": [
        "df = pd.read_csv(url4_60min_right_stripping, sep= \";\")\n",
        "df = df.iloc[:,0:]\n",
        "df = df.drop(columns=[\"Current_Mass\", \"Current\"])\n",
        "df = df.rename(columns={\"Average_Mass\": \"m/z\", \"Average\": \"intensity\"})\n",
        "df0318_60min_right_stripping = df[df['m/z'] > 19]  \n",
        "df0318_60min_right_stripping = df[df['m/z'] < 200]\n",
        "df0318_60min_right_stripping"
      ],
      "metadata": {
        "id": "kQPS2pquukyd"
      },
      "execution_count": null,
      "outputs": []
    },
    {
      "cell_type": "markdown",
      "source": [
        "**18.03. right stripping 120 min:**"
      ],
      "metadata": {
        "id": "wbMGaLsEuu3c"
      }
    },
    {
      "cell_type": "code",
      "source": [
        "df = pd.read_csv(url4_120min_right_stripping, sep= \";\")\n",
        "df = df.iloc[:,0:]\n",
        "df = df.drop(columns=[\"Current_Mass\", \"Current\"])\n",
        "df = df.rename(columns={\"Average_Mass\": \"m/z\", \"Average\": \"intensity\"})\n",
        "df0318_120min_right_stripping = df[df['m/z'] > 19]  \n",
        "df0318_120min_right_stripping = df[df['m/z'] < 200]\n",
        "df0318_120min_right_stripping"
      ],
      "metadata": {
        "id": "jU4nkiqyuwZM"
      },
      "execution_count": null,
      "outputs": []
    },
    {
      "cell_type": "markdown",
      "source": [
        "## Read in control data"
      ],
      "metadata": {
        "id": "1Qqb0IRBiw_4"
      }
    },
    {
      "cell_type": "markdown",
      "source": [
        "###07.03.2022"
      ],
      "metadata": {
        "id": "j40FX0jDi59z"
      }
    },
    {
      "cell_type": "markdown",
      "source": [
        "**07.03. 0 min control:**"
      ],
      "metadata": {
        "id": "-tNZRinvj8vd"
      }
    },
    {
      "cell_type": "code",
      "source": [
        "df = pd.read_csv(url_0min_right_control, sep= \";\")\n",
        "df = df.iloc[:,0:]\n",
        "df = df.drop(columns=[\"Current_Mass\", \"Current\"])\n",
        "df = df.rename(columns={\"Average_Mass\": \"m/z\", \"Average\": \"intensity\"})\n",
        "df0307_0min_right_control = df[df['m/z'] > 19]  \n",
        "df0307_0min_right_control = df[df['m/z'] < 200]\n",
        "#df0307_0min_right_control"
      ],
      "metadata": {
        "id": "Rud4vo5njjc_"
      },
      "execution_count": null,
      "outputs": []
    },
    {
      "cell_type": "markdown",
      "source": [
        "**07.03. 5 min control:**"
      ],
      "metadata": {
        "id": "OEh00dCqkCFP"
      }
    },
    {
      "cell_type": "code",
      "source": [
        "df = pd.read_csv(url_5min_right_control, sep= \";\")\n",
        "df = df.iloc[:,0:]\n",
        "df = df.drop(columns=[\"Current_Mass\", \"Current\"])\n",
        "df = df.rename(columns={\"Average_Mass\": \"m/z\", \"Average\": \"intensity\"})\n",
        "df0307_5min_right_control = df[df['m/z'] > 19]  \n",
        "df0307_5min_right_control = df[df['m/z'] < 200]\n",
        "#df0307_5min_right_control"
      ],
      "metadata": {
        "id": "hHioUP6okFUq"
      },
      "execution_count": null,
      "outputs": []
    },
    {
      "cell_type": "markdown",
      "source": [
        "**07.03. 60 min control:**"
      ],
      "metadata": {
        "id": "3wYwjJgMnQAr"
      }
    },
    {
      "cell_type": "code",
      "source": [
        "df = pd.read_csv(url_60min_right_control, sep= \";\")\n",
        "df = df.iloc[:,0:]\n",
        "df = df.drop(columns=[\"Current_Mass\", \"Current\"])\n",
        "df = df.rename(columns={\"Average_Mass\": \"m/z\", \"Average\": \"intensity\"})\n",
        "df0307_60min_right_control = df[df['m/z'] > 19]  \n",
        "df0307_60min_right_control = df[df['m/z'] < 200]\n",
        "#df0307_60min_right_control"
      ],
      "metadata": {
        "id": "PkIlrShgnRwr"
      },
      "execution_count": null,
      "outputs": []
    },
    {
      "cell_type": "markdown",
      "source": [
        "**07.03. 120 min control:**"
      ],
      "metadata": {
        "id": "Wec-rK0Wna-h"
      }
    },
    {
      "cell_type": "code",
      "source": [
        "df = pd.read_csv(url_120min_right_control, sep= \";\")\n",
        "df = df.iloc[:,0:]\n",
        "df = df.drop(columns=[\"Current_Mass\", \"Current\"])\n",
        "df = df.rename(columns={\"Average_Mass\": \"m/z\", \"Average\": \"intensity\"})\n",
        "df0307_120min_right_control = df[df['m/z'] > 19]  \n",
        "df0307_120min_right_control = df[df['m/z'] < 200]\n",
        "#df0307_120min_right_control"
      ],
      "metadata": {
        "id": "kgmmoyognde2"
      },
      "execution_count": null,
      "outputs": []
    },
    {
      "cell_type": "markdown",
      "source": [
        "###17.03.2022"
      ],
      "metadata": {
        "id": "d80_vRA1bpxW"
      }
    },
    {
      "cell_type": "markdown",
      "source": [
        "**17.03. 0 min control:**"
      ],
      "metadata": {
        "id": "PVjoVF_3bw6K"
      }
    },
    {
      "cell_type": "code",
      "source": [
        "df = pd.read_csv(url3_0min_right_control, sep= \";\")\n",
        "df = df.iloc[:,0:]\n",
        "df = df.drop(columns=[\"Current_Mass\", \"Current\"])\n",
        "df = df.rename(columns={\"Average_Mass\": \"m/z\", \"Average\": \"intensity\"})\n",
        "df0317_0min_right_control = df[df['m/z'] > 19]  \n",
        "df0317_0min_right_control = df[df['m/z'] < 200]\n",
        "df0317_0min_right_control"
      ],
      "metadata": {
        "id": "xmuxnWEUb_bL"
      },
      "execution_count": null,
      "outputs": []
    },
    {
      "cell_type": "markdown",
      "source": [
        "**17.03. 5 min control:**"
      ],
      "metadata": {
        "id": "aWrpUgy4ct-V"
      }
    },
    {
      "cell_type": "code",
      "source": [
        "df = pd.read_csv(url3_5min_right_control, sep= \";\")\n",
        "df = df.iloc[:,0:]\n",
        "df = df.drop(columns=[\"Current_Mass\", \"Current\"])\n",
        "df = df.rename(columns={\"Average_Mass\": \"m/z\", \"Average\": \"intensity\"})\n",
        "df0317_5min_right_control = df[df['m/z'] > 19]  \n",
        "df0317_5min_right_control = df[df['m/z'] < 200]\n",
        "df0317_5min_right_control"
      ],
      "metadata": {
        "id": "wrVT1-zxcqLm"
      },
      "execution_count": null,
      "outputs": []
    },
    {
      "cell_type": "markdown",
      "source": [
        "**17.03. 60 min control:**"
      ],
      "metadata": {
        "id": "OfRCDMsVcyus"
      }
    },
    {
      "cell_type": "code",
      "source": [
        "df = pd.read_csv(url3_60min_right_control, sep= \";\")\n",
        "df = df.iloc[:,0:]\n",
        "df = df.drop(columns=[\"Current_Mass\", \"Current\"])\n",
        "df = df.rename(columns={\"Average_Mass\": \"m/z\", \"Average\": \"intensity\"})\n",
        "df0317_60min_right_control = df[df['m/z'] > 19]  \n",
        "df0317_60min_right_control = df[df['m/z'] < 200]\n",
        "#df0317_60min_right_control"
      ],
      "metadata": {
        "id": "UFNKIxmvc2Ry"
      },
      "execution_count": null,
      "outputs": []
    },
    {
      "cell_type": "markdown",
      "source": [
        "**17.03. 120 min control:**"
      ],
      "metadata": {
        "id": "RLM7BOBnc9uW"
      }
    },
    {
      "cell_type": "code",
      "source": [
        "df = pd.read_csv(url3_120min_right_control, sep= \";\")\n",
        "df = df.iloc[:,0:]\n",
        "df = df.drop(columns=[\"Current_Mass\", \"Current\"])\n",
        "df = df.rename(columns={\"Average_Mass\": \"m/z\", \"Average\": \"intensity\"})\n",
        "df0317_120min_right_control = df[df['m/z'] > 19]  \n",
        "df0317_120min_right_control = df[df['m/z'] < 200]\n",
        "#df0317_120min_right_control"
      ],
      "metadata": {
        "id": "GjPFKwv5dBmR"
      },
      "execution_count": null,
      "outputs": []
    },
    {
      "cell_type": "markdown",
      "source": [
        "#Plotting libraries 1st try \n",
        "Here some information about building interactive plots in Python can be found: [Interactive Python Plot Libraries](https://mode.com/blog/python-interactive-plot-libraries/)"
      ],
      "metadata": {
        "id": "sLWYSBneJcAG"
      }
    },
    {
      "cell_type": "markdown",
      "source": [
        "###Seaborn"
      ],
      "metadata": {
        "id": "YuP8bAMeKXLA"
      }
    },
    {
      "cell_type": "code",
      "source": [
        "#VOCs = sns.load_dataset(\"df_0min_left_BHA\")\n",
        "   \n",
        "df_0min_left_BHA.plot.line(x = \"m/z\", y = \"intensity\")\n"
      ],
      "metadata": {
        "id": "dP6eTiTA3oql"
      },
      "execution_count": null,
      "outputs": []
    },
    {
      "cell_type": "markdown",
      "source": [
        "###Pygal \n",
        "[link text](https://)\n"
      ],
      "metadata": {
        "id": "y2GN8xsOJk8r"
      }
    },
    {
      "cell_type": "code",
      "source": [
        ""
      ],
      "metadata": {
        "id": "6AXjvpbzKJYy"
      },
      "execution_count": null,
      "outputs": []
    },
    {
      "cell_type": "code",
      "source": [
        "pip install pygal"
      ],
      "metadata": {
        "id": "835OYJi3KJkQ"
      },
      "execution_count": null,
      "outputs": []
    },
    {
      "cell_type": "markdown",
      "source": [
        "###Bokeh"
      ],
      "metadata": {
        "id": "sP5mOXo1KK80"
      }
    },
    {
      "cell_type": "code",
      "source": [
        "pip install bokeh"
      ],
      "metadata": {
        "id": "8N0fIHpRKOaB"
      },
      "execution_count": null,
      "outputs": []
    },
    {
      "cell_type": "code",
      "source": [
        "from bokeh.io import curdoc, output_notebook\n",
        "from bokeh.plotting import figure, show\n",
        "\n",
        "output_notebook()\n",
        "\n",
        "\n",
        "#change theme for visibility\n",
        "curdoc().theme = 'dark_minimal' #caliber, light_minimal, dark_minimal, night_sky, contrast\n",
        "\n",
        "# prepare data\n",
        "x = df0307_0min_left_BHA['m/z']\n",
        "y = df0307_0min_left_BHA['intensity']\n",
        "\n",
        "# create a new plot with a title and axis labels\n",
        "p = figure (title='VOC sample plot comparision 0-120 min', x_axis_label='m/z', y_axis_label='intensity [ppb]',width=900, height=400, x_range=(30, 70), y_range=(0, 4000)) #, x_axis_label='m/z', y_axis_label='intensity [ppb]',width=900, height=400, x_range=(30, 70), y_range=(0, 4000)\n",
        "# add a line renderer with legend and line thickness\n",
        "p.line(x, y, legend_label=\"VOCs\", line_width=2)\n",
        "\n",
        "# show the results\n",
        "#output_file(\"voc.html\")\n",
        "\n",
        "show(p)"
      ],
      "metadata": {
        "id": "1rA3v3dmzJNt"
      },
      "execution_count": null,
      "outputs": []
    },
    {
      "cell_type": "code",
      "source": [
        "from bokeh.io import curdoc, output_notebook\n",
        "from bokeh.plotting import figure, show\n",
        "\n",
        "output_notebook()\n",
        "\n",
        "\n",
        "#change theme for visibility\n",
        "curdoc().theme = 'dark_minimal' #caliber, light_minimal, dark_minimal, night_sky, contrast\n",
        "\n",
        "# prepare data\n",
        "x0 = df0307_0min_left_BHA['m/z']\n",
        "y0 = df0307_0min_left_BHA['intensity']\n",
        "x1 = df0307_5min_left_BHA['m/z']\n",
        "y1 = df0307_5min_left_BHA['intensity']\n",
        "x2 = df0307_60min_left_BHA['m/z']\n",
        "y2 = df0307_60min_left_BHA['intensity']\n",
        "x3 = df0307_120min_left_BHA['m/z']\n",
        "y3 = df0307_120min_left_BHA['intensity']\n",
        "\n",
        "# create a new plot with a title and axis labels\n",
        "p = figure (title='VOC sample plot comparision 0-120 min', x_axis_label='m/z', y_axis_label='intensity [ppb]',width=900, height=400, x_range=(30, 70), y_range=(0, 4000)) #, x_axis_label='m/z', y_axis_label='intensity [ppb]',width=900, height=400, x_range=(30, 70), y_range=(0, 4000)\n",
        "# add a line renderer with legend and line thickness\n",
        "#p.line(x, y, legend_label=\"VOCs\", line_width=2)\n",
        "\n",
        "# add multiple renderers\n",
        "#p.line(x0, y0, legend_label=\"0 min\", color=\"blue\", line_width=2)\n",
        "p.line(x1, y1, legend_label=\"5 min\", color=\"red\", line_width=2)\n",
        "p.line(x2, y2, legend_label=\"60 min\", color=\"green\", line_width=2)\n",
        "p.line(x3, y3, legend_label=\"120 min\", color=\"yellow\", line_width=2)\n",
        "\n",
        "# show the results\n",
        "#output_file(\"voc.html\")\n",
        "\n",
        "show(p)"
      ],
      "metadata": {
        "id": "AZmfoY3gnrG2"
      },
      "execution_count": null,
      "outputs": []
    },
    {
      "cell_type": "markdown",
      "source": [
        ""
      ],
      "metadata": {
        "id": "UobLc53jaFW5"
      }
    },
    {
      "cell_type": "code",
      "source": [
        "from bokeh.io import curdoc, output_notebook\n",
        "from bokeh.plotting import figure, show\n",
        "\n",
        "output_notebook()\n",
        "\n",
        "\n",
        "#change theme for visibility\n",
        "curdoc().theme = 'dark_minimal' #caliber, light_minimal, dark_minimal, night_sky, contrast\n",
        "\n",
        "# prepare data\n",
        "x0 = df0307_0min_right_control['m/z']\n",
        "y0 = df0307_0min_right_control['intensity']\n",
        "x1 = df0307_5min_right_control['m/z']\n",
        "y1 = df0307_5min_right_control['intensity']\n",
        "x2 = df0307_60min_right_control['m/z']\n",
        "y2 = df0307_60min_right_control['intensity']\n",
        "x3 = df0307_120min_right_control['m/z']\n",
        "y3 = df0307_120min_right_control['intensity']\n",
        "\n",
        "# create a new plot with a title and axis labels\n",
        "p = figure (title='VOC sample plot comparision 0-120 min control', x_axis_label='m/z', y_axis_label='intensity [ppb]',width=900, height=400, x_range=(30, 70), y_range=(0, 4000)) #, x_axis_label='m/z', y_axis_label='intensity [ppb]',width=900, height=400, x_range=(30, 70), y_range=(0, 4000)\n",
        "# add a line renderer with legend and line thickness\n",
        "#p.line(x, y, legend_label=\"VOCs\", line_width=2)\n",
        "\n",
        "# add multiple renderers\n",
        "p.line(x0, y0, legend_label=\"0 min\", color=\"blue\", line_width=2)\n",
        "p.line(x1, y1, legend_label=\"5 min\", color=\"red\", line_width=2)\n",
        "p.line(x2, y2, legend_label=\"60 min\", color=\"green\", line_width=2)\n",
        "p.line(x3, y3, legend_label=\"120 min\", color=\"yellow\", line_width=2)\n",
        "\n",
        "# show the results\n",
        "#output_file(\"voc.html\")\n",
        "\n",
        "show(p)"
      ],
      "metadata": {
        "id": "-jrB4PNYZ5vs"
      },
      "execution_count": null,
      "outputs": []
    },
    {
      "cell_type": "markdown",
      "source": [
        "Plot of 0min left arm BHA day 1"
      ],
      "metadata": {
        "id": "z2p5TQH-_SQK"
      }
    },
    {
      "cell_type": "markdown",
      "source": [
        ""
      ],
      "metadata": {
        "id": "huhMrGbEZmhM"
      }
    },
    {
      "cell_type": "markdown",
      "source": [
        "#Spectra comparision and analysis PTR"
      ],
      "metadata": {
        "id": "FhNp4FQmvhrj"
      }
    },
    {
      "cell_type": "markdown",
      "source": [
        "## Changes in spectra over time ompared to control \n",
        "In this part I want to subtract the changes between the inital treatment, 60 minutes and 120 minutes later and plot these subtractions compared to those of the control samples. "
      ],
      "metadata": {
        "id": "Vpa33lGfvqf7"
      }
    },
    {
      "cell_type": "markdown",
      "source": [
        "### Variance within the control samples\n",
        "So far I have gathered two control measurements on the 7th and 17th of March. I want to subtract the spectra from one another to visualize the variance to better understand the data. Idealy We would wish for completely straight lines to assure that the variance within the measuring period of controls is negligible. "
      ],
      "metadata": {
        "id": "xGChq130wSa9"
      }
    },
    {
      "cell_type": "code",
      "source": [
        "#df0307_0min_right_control\n",
        "#df0307_5min_right_control\n",
        "#df0307_60min_right_control\n",
        "#df0307_120min_right_control\n",
        "df0307_control_subtract0_5 = df0307_0min_right_control.subtract(df0307_5min_right_control, axis = 1)\n",
        "df0307_control_subtract0_60 = df0307_0min_right_control.subtract(df0307_60min_right_control, axis = 1)\n",
        "df0307_control_subtract5_60 = df0307_5min_right_control.subtract(df0307_60min_right_control, axis = 1)"
      ],
      "metadata": {
        "id": "3oEZlbVBw_Ja"
      },
      "execution_count": null,
      "outputs": []
    },
    {
      "cell_type": "code",
      "source": [
        "from bokeh.io import curdoc, output_notebook\n",
        "from bokeh.plotting import figure, show\n",
        "\n",
        "output_notebook()\n",
        "\n",
        "\n",
        "#change theme for visibility\n",
        "curdoc().theme = 'dark_minimal' #caliber, light_minimal, dark_minimal, night_sky, contrast\n",
        "\n",
        "# prepare data\n",
        "x = df0307_control_subtract5_60['m/z']\n",
        "y = df0307_control_subtract5_60['intensity']\n",
        "\n",
        "# create a new plot with a title and axis labels\n",
        "p = figure (title='VOC subtraction plot control 0-60min', x_axis_label='m/z', y_axis_label='intensity [ppb]',width=900, height=400, x_range=(30, 70), y_range=(0, 4000)) #, x_axis_label='m/z', y_axis_label='intensity [ppb]',width=900, height=400, x_range=(30, 70), y_range=(0, 4000)\n",
        "# add a line renderer with legend and line thickness\n",
        "p.line(x, y, legend_label=\"VOCs\", line_width=2)\n",
        "\n",
        "# show the results\n",
        "#output_file(\"voc.html\")\n",
        "\n",
        "show(p)"
      ],
      "metadata": {
        "id": "b17gYOwEzdGL"
      },
      "execution_count": null,
      "outputs": []
    },
    {
      "cell_type": "markdown",
      "source": [
        "### Variance within the BHA samples"
      ],
      "metadata": {
        "id": "huorm8NZ0n3J"
      }
    },
    {
      "cell_type": "code",
      "source": [
        "#df0307_0min_left_BHA\n",
        "#df0307_5min_left_BHA\n",
        "#df0307_60min_left_BHA\n",
        "#df0307_120min_left_BHA\n",
        "df0307_BHA_subtract0_5 = df0307_0min_left_BHA.subtract(df0307_5min_left_BHA, axis = 1)\n",
        "#df0307_control_subtract0_60 = df0307_0min_right_control.subtract(df0307_60min_right_control, axis = 1)\n",
        "#df0307_control_subtract5_60 = df0307_5min_right_control.subtract(df0307_60min_right_control, axis = 1)\n",
        "df0307_BHA_subtract0_5"
      ],
      "metadata": {
        "id": "QSJnjx780q4E"
      },
      "execution_count": null,
      "outputs": []
    },
    {
      "cell_type": "code",
      "source": [
        "df0307_BHA_subtract0_5 = df0307_0min_left_BHA.subtract(df0307_5min_left_BHA, axis = 1)\n",
        "\n",
        "from bokeh.io import curdoc, output_notebook\n",
        "from bokeh.plotting import figure, show\n",
        "\n",
        "output_notebook()\n",
        "\n",
        "\n",
        "#change theme for visibility\n",
        "curdoc().theme = 'dark_minimal' #caliber, light_minimal, dark_minimal, night_sky, contrast\n",
        "\n",
        "# prepare data\n",
        "x = df0307_BHA_subtract0_5['m/z']\n",
        "y = df0307_BHA_subtract0_5['intensity']\n",
        "\n",
        "# create a new plot with a title and axis labels\n",
        "p = figure (title='VOC subtraction plot control 0-60min', x_axis_label='m/z', y_axis_label='intensity [ppb]',width=900, height=400, x_range=(30, 70), y_range=(0, 4000)) #, x_axis_label='m/z', y_axis_label='intensity [ppb]',width=900, height=400, x_range=(30, 70), y_range=(0, 4000)\n",
        "# add a line renderer with legend and line thickness\n",
        "p.line(x, y, legend_label=\"VOCs\", line_width=2)\n",
        "\n",
        "# show the results\n",
        "#output_file(\"voc.html\")\n",
        "\n",
        "show(p)"
      ],
      "metadata": {
        "id": "lkK6UYTB9hxX"
      },
      "execution_count": null,
      "outputs": []
    }
  ]
}